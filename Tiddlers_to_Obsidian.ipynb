{
 "cells": [
  {
   "cell_type": "code",
   "execution_count": 1,
   "id": "432f5b52",
   "metadata": {},
   "outputs": [],
   "source": [
    "import os\n",
    "import random\n",
    "import re\n",
    "import frontmatter"
   ]
  },
  {
   "cell_type": "code",
   "execution_count": 2,
   "id": "c700c9a3",
   "metadata": {},
   "outputs": [],
   "source": [
    "TIDDLER_FOLDER = 'tiddlers'\n",
    "OUT_FOLDER = 'output'"
   ]
  },
  {
   "cell_type": "code",
   "execution_count": 3,
   "id": "9bd04c48",
   "metadata": {},
   "outputs": [],
   "source": [
    "tiddlers = [t for t in os.listdir(TIDDLER_FOLDER) if '.tid' in t]"
   ]
  },
  {
   "cell_type": "code",
   "execution_count": 4,
   "id": "9d49a19f",
   "metadata": {},
   "outputs": [
    {
     "data": {
      "text/plain": [
       "702"
      ]
     },
     "execution_count": 4,
     "metadata": {},
     "output_type": "execute_result"
    }
   ],
   "source": [
    "len(tiddlers)"
   ]
  },
  {
   "cell_type": "markdown",
   "id": "95b0c91f",
   "metadata": {},
   "source": [
    "## Load in the tiddlers"
   ]
  },
  {
   "cell_type": "code",
   "execution_count": 5,
   "id": "aed2189c",
   "metadata": {},
   "outputs": [
    {
     "name": "stdout",
     "output_type": "stream",
     "text": [
      "702\n"
     ]
    }
   ],
   "source": [
    "tids_plain = {}\n",
    "\n",
    "for t in tiddlers:\n",
    "    tid_path = os.path.join(TIDDLER_FOLDER, t)\n",
    "    name = os.path.splitext(t)[0]\n",
    "    with open(tid_path, 'r') as infile:\n",
    "        tids_plain[name] = infile.read()\n",
    "\n",
    "print(len(tids_plain))"
   ]
  },
  {
   "cell_type": "markdown",
   "id": "9488e964",
   "metadata": {},
   "source": [
    "## Turn the plain text into objects"
   ]
  },
  {
   "cell_type": "code",
   "execution_count": 6,
   "id": "101cbfdb",
   "metadata": {},
   "outputs": [
    {
     "name": "stdout",
     "output_type": "stream",
     "text": [
      "['3dArtist', 'QuinoaChickpeaBeanSalad', 'KhanLearningMythArticle', 'GlobalWarmingClimateScienceCoursera', 'DuravitShowerTrayEstimate']\n"
     ]
    }
   ],
   "source": [
    "errors = []\n",
    "tid_objs = {}\n",
    "\n",
    "for name, text in tids_plain.items():\n",
    "    \n",
    "    # format frontmatter\n",
    "    \n",
    "    # hack to define end of frontmatter\n",
    "    text = text.replace('type: text/vnd.tiddlywiki', '---')\n",
    "    \n",
    "    # get rid of square brackets in the frontmater\n",
    "    splitty = text.split('---')\n",
    "    front = splitty[0]\n",
    "    front = front.replace('[', '')\n",
    "    front = front.replace(']', '')\n",
    "    splitty[0] = front\n",
    "    text = '---'.join(splitty)\n",
    "    \n",
    "    # define start of frontmatter\n",
    "    text = '---\\n' + text\n",
    "    \n",
    "    # get rid of hashtag in frontmatter value\n",
    "    text = text.replace('#00A560', '00A560')\n",
    "    \n",
    "    # list any errors so they can be dealt with manually\n",
    "    try:\n",
    "        data = frontmatter.loads(text)\n",
    "        tid_objs[name] = data\n",
    "    except:\n",
    "        errors.append(name)\n",
    "    \n",
    "print(errors)"
   ]
  },
  {
   "cell_type": "code",
   "execution_count": 7,
   "id": "3c765d42",
   "metadata": {},
   "outputs": [
    {
     "name": "stdout",
     "output_type": "stream",
     "text": [
      "subtiddler-code start-hour job-number production-path image-url project timestamp birthday in-state-tuition genre recommended-by caption software evaluation school description stop medium location interests client-code author record-type twitter icon father org-type container date participants pp publication dynalist-link draft.title skill-level locale title domain image-qty team-members email owned modified creator start list instagram preferred-image-dimensions modifier profession status stop-hour client family stop-minute color source tags draft.of profile rating app-deadline time created production-folder-name phone img-url job-title organization animation-qty\n"
     ]
    }
   ],
   "source": [
    "# find all metadata fields in all tiddlers\n",
    "\n",
    "all_fields = []\n",
    "\n",
    "for name, ob in tid_objs.items():\n",
    "    for key in ob.keys():\n",
    "        all_fields.append(key)\n",
    "\n",
    "all_fields = set(all_fields)\n",
    "print(' '.join(all_fields))"
   ]
  },
  {
   "cell_type": "code",
   "execution_count": 8,
   "id": "1b4d6baf",
   "metadata": {},
   "outputs": [],
   "source": [
    "# fields to move to the body of the document where they can become links\n",
    "\n",
    "fields_to_move = [\n",
    "    'client',\n",
    "    'software',\n",
    "    'school',\n",
    "    'organization',\n",
    "    'container',\n",
    "    'participants',\n",
    "    'description',\n",
    "    'family',\n",
    "    'author',\n",
    "    'profession',\n",
    "    'publication',\n",
    "    'project',\n",
    "    'father',\n",
    "    'source',\n",
    "]"
   ]
  },
  {
   "cell_type": "code",
   "execution_count": 9,
   "id": "3c024cd8",
   "metadata": {},
   "outputs": [],
   "source": [
    "# show the values of the fields I'm interested in moving\n",
    "\n",
    "fields_of_interest_values = []\n",
    "\n",
    "for name, ob in tid_objs.items():\n",
    "    for field in ob.keys():\n",
    "        if field in fields_to_move:\n",
    "            fields_of_interest_values.append(ob[field])\n",
    "\n",
    "fields_of_interest_values = set(fields_of_interest_values)"
   ]
  },
  {
   "cell_type": "code",
   "execution_count": 10,
   "id": "17886d61",
   "metadata": {},
   "outputs": [],
   "source": [
    "for name, ob in tid_objs.items():\n",
    "\n",
    "    fields_string = ''\n",
    "        \n",
    "    for field in fields_to_move:\n",
    "        value = ob.get(field)\n",
    "        if value:\n",
    "            fields_string += f'\\n{field}: {value}'\n",
    "    \n",
    "    ob.content += fields_string"
   ]
  },
  {
   "cell_type": "markdown",
   "id": "9a0acec3",
   "metadata": {},
   "source": [
    "## Fix tags TO-DO: fix empty brackets appending to files\n",
    "\n",
    "There were only a few tags I wanted to keep as tags, the rest I was content to turn into links appended at the bottom of the note."
   ]
  },
  {
   "cell_type": "code",
   "execution_count": 11,
   "id": "0a9aefe4",
   "metadata": {},
   "outputs": [
    {
     "name": "stdout",
     "output_type": "stream",
     "text": [
      "Shaders BestPractice School Place RenderingSuccess Seed NeedsExcision Meta OpenSource Index Simulation Language Productivity NeedsAttention Reference Hardware Power Compositing Achievement NeedsImage Aesthetics Mayo Survival Git Windows Python Knowledge Concept Factory SceneSetup Software MyStory Dashboard Flora Homebrew Artifact Bug Travel Security Solved Scripting Client Nodes Innovation Dev Metaphysics Modularity Record Template Industry Food Animation Tip TiddlyWiki HealthAndFitness Source Project Scholarship Stub Writing Definition Photoshop Publication MayoSite PAO Chess GravCMS Blender Journal Academia Experience Admissions Problem Math Design Physics Economics FrontEnd NodeJs Versioning Art Psychology Workflow Modeling3D SubstanceDesigner Chapter Music Guide ComputerScience\n"
     ]
    }
   ],
   "source": [
    "all_tags = []\n",
    "\n",
    "for name, ob in tid_objs.items():\n",
    "    tags_string = ob.get('tags')\n",
    "    if not tags_string:\n",
    "        continue\n",
    "    tags = tags_string.split(' ')\n",
    "    for t in tags:\n",
    "        all_tags.append(t)\n",
    "\n",
    "all_tags = set(all_tags)\n",
    "print(' '.join(all_tags))"
   ]
  },
  {
   "cell_type": "code",
   "execution_count": 12,
   "id": "5eb6ad28",
   "metadata": {},
   "outputs": [],
   "source": [
    "tags_to_keep = [\n",
    "    'pao',\n",
    "    'journal',\n",
    "    'guide',\n",
    "    'bug',\n",
    "    'seed',\n",
    "    'place',\n",
    "    'chapter',\n",
    "    'meta',\n",
    "    'tip',\n",
    "    'source',\n",
    "    'guide',\n",
    "    'concept',\n",
    "    'project',\n",
    "    'artifact',\n",
    "    'index',\n",
    "    'template',\n",
    "    'software',\n",
    "    'dashboard'\n",
    "]"
   ]
  },
  {
   "cell_type": "code",
   "execution_count": 13,
   "id": "e3c338b3",
   "metadata": {},
   "outputs": [],
   "source": [
    "for name, ob in tid_objs.items():\n",
    "    \n",
    "    # get the tags from the metadata\n",
    "    tags_string = ob.get('tags')\n",
    "    if not tags_string:\n",
    "        continue\n",
    "        \n",
    "    tags_string = tags_string.replace('Record', '')\n",
    "    tags_string = tags_string.replace('Solved', '')\n",
    "    tags_string = tags_string.replace('Stub', '')\n",
    "        \n",
    "    # keep lowercase versions of some tags\n",
    "    tags = tags_string.split(' ')\n",
    "    to_keep = [t for t in tags if t.lower() in tags_to_keep]\n",
    "    ob['tags'] = ' '.join(to_keep).lower()\n",
    "    \n",
    "    # put the rest of the tags at the bottom as links\n",
    "    topics = [t for t in tags if not t.lower() in tags_to_keep]\n",
    "    topics = [f'[[{x}]]' for x in topics]\n",
    "    ob.content += f'\\n\\n{\" \".join(topics)}'"
   ]
  },
  {
   "cell_type": "markdown",
   "id": "bf126374",
   "metadata": {},
   "source": [
    "## Fix Markdown syntax"
   ]
  },
  {
   "cell_type": "code",
   "execution_count": 14,
   "id": "78d1da2a",
   "metadata": {},
   "outputs": [],
   "source": [
    "for name, ob in tid_objs.items():\n",
    "    \n",
    "    content = ob.content\n",
    "    \n",
    "    if not content:\n",
    "        continue\n",
    "    \n",
    "    # fix image attachments\n",
    "    content = content.replace('[img', '![')\n",
    "    \n",
    "    # fix bolding\n",
    "    content = content.replace(\"''\", \"**\")\n",
    "    \n",
    "    ob.content = content"
   ]
  },
  {
   "cell_type": "markdown",
   "id": "b3a6aca5",
   "metadata": {},
   "source": [
    "## Fix Aliases\n",
    "\n",
    "TiddlyWiki aliases are backward compared to Obsidian flavored aliases. In Obsidian, the title comes first and then the alias."
   ]
  },
  {
   "cell_type": "code",
   "execution_count": 15,
   "id": "92e6519a",
   "metadata": {},
   "outputs": [],
   "source": [
    "# Regex to match alias links\n",
    "alias_ex = re.compile(r'\\[\\[.*?\\|.*?\\]\\]')"
   ]
  },
  {
   "cell_type": "code",
   "execution_count": 16,
   "id": "2ba3fc1c",
   "metadata": {},
   "outputs": [
    {
     "name": "stdout",
     "output_type": "stream",
     "text": [
      "[[Note Title|i'm aliased text]]\n"
     ]
    }
   ],
   "source": [
    "# Make a function to swap the first part of an alias with the second\n",
    "\n",
    "test_alias = r\"[[i'm aliased text|Note Title]]\"\n",
    "\n",
    "def swap_alias(match):\n",
    "    body = match.strip('[]')\n",
    "    alias, title = body.split('|')\n",
    "    return f'[[{title}|{alias}]]'\n",
    "\n",
    "print(swap_alias(test_alias))"
   ]
  },
  {
   "cell_type": "code",
   "execution_count": 17,
   "id": "d50dd760",
   "metadata": {},
   "outputs": [],
   "source": [
    "for name, ob in tid_objs.items():\n",
    "    \n",
    "    content = ob.content\n",
    "    \n",
    "    if not content:\n",
    "        continue\n",
    "        \n",
    "    aliases = alias_ex.findall(content)\n",
    "    for a in aliases:\n",
    "        content = content.replace(a, swap_alias(a))\n",
    "\n",
    "    \n",
    "    ob.content = content"
   ]
  },
  {
   "cell_type": "markdown",
   "id": "51d5d565",
   "metadata": {},
   "source": [
    "## Put Pascal words in brackets\n",
    "\n",
    "Tiddly wiki recognizes words in PascalCase (similar to camelCase) as links, but all Obsidian links must be in double square brackets."
   ]
  },
  {
   "cell_type": "code",
   "execution_count": 18,
   "id": "b0373c53",
   "metadata": {},
   "outputs": [],
   "source": [
    "# Regex for matching PascalCase\n",
    "pascal_ex = re.compile(r'[A-Z][A-Za-z0-9]*[a-z]+[A-Z]+[a-z0-9]*')\n",
    "\n",
    "for name, ob in tid_objs.items():\n",
    "    \n",
    "    content = ob.content\n",
    "    \n",
    "    if not content:\n",
    "        continue\n",
    "        \n",
    "    pascals = pascal_ex.findall(content)\n",
    "        \n",
    "    # put pascal-cased words in brackets\n",
    "    for p in pascals:\n",
    "        linkified = f'[[{p}]]'\n",
    "        \n",
    "        if linkified in content: # get out if there's already a link\n",
    "            continue\n",
    "            \n",
    "        if f'[[{p}|' in content: # check for aliases too\n",
    "            continue\n",
    "            \n",
    "        content = content.replace(p, linkified)\n",
    "        \n",
    "    ob.content = content"
   ]
  },
  {
   "cell_type": "markdown",
   "id": "2bc1368c",
   "metadata": {},
   "source": [
    "## Write markdown files into the output folder"
   ]
  },
  {
   "cell_type": "code",
   "execution_count": 19,
   "id": "b214f37c",
   "metadata": {},
   "outputs": [
    {
     "name": "stdout",
     "output_type": "stream",
     "text": [
      "done\n"
     ]
    }
   ],
   "source": [
    "for t in tid_objs:\n",
    "    outpath = os.path.join(OUT_FOLDER, t + '.md')\n",
    "    with open(outpath, 'w') as outfile:\n",
    "        outfile.write(frontmatter.dumps(tid_objs.get(t)))\n",
    "print('done')"
   ]
  }
 ],
 "metadata": {
  "kernelspec": {
   "display_name": "Python 3 (ipykernel)",
   "language": "python",
   "name": "python3"
  },
  "language_info": {
   "codemirror_mode": {
    "name": "ipython",
    "version": 3
   },
   "file_extension": ".py",
   "mimetype": "text/x-python",
   "name": "python",
   "nbconvert_exporter": "python",
   "pygments_lexer": "ipython3",
   "version": "3.7.0"
  }
 },
 "nbformat": 4,
 "nbformat_minor": 5
}
